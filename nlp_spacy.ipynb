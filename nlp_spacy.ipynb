{
 "cells": [
  {
   "cell_type": "markdown",
   "id": "b34d474f-ab98-400d-9657-64e4d8d56443",
   "metadata": {},
   "source": [
    "### Exercise 1: Embedding 1"
   ]
  },
  {
   "cell_type": "code",
   "execution_count": 1,
   "id": "e0e3e342-155a-4876-9217-6f3674d684db",
   "metadata": {},
   "outputs": [
    {
     "name": "stdout",
     "output_type": "stream",
     "text": [
      "Forme de l'embedding : (96,)\n",
      "(99959115, 33554432)\n"
     ]
    }
   ],
   "source": [
    "import spacy\n",
    "\n",
    "nlp = spacy.load(\"en_core_web_sm\")\n",
    "\n",
    "doc = nlp(\"car\")\n",
    "# Afficher la version du modèle\n",
    "# print(nlp.meta[\"version\"])\n",
    "\n",
    "embedding = doc.vector\n",
    "print(\"Forme de l'embedding :\", embedding.shape)\n",
    "\n",
    "#\n",
    "somme_embedding = sum(embedding[:20])  \n",
    "\n",
    "numerateur, denominateur = somme_embedding.as_integer_ratio()\n",
    "print(f\"({numerateur}, {denominateur})\")\n",
    "\n"
   ]
  },
  {
   "cell_type": "markdown",
   "id": "15904ab4-28d5-4852-a1fc-e5d1d6567f46",
   "metadata": {},
   "source": [
    "### Exercise 2: Tokenization"
   ]
  },
  {
   "cell_type": "code",
   "execution_count": 16,
   "id": "7725e9b2-3a1e-434b-8f7b-51a4b761b0de",
   "metadata": {},
   "outputs": [
    {
     "name": "stdout",
     "output_type": "stream",
     "text": [
      "Tokenize\n",
      "this\n",
      "sentence\n",
      ".\n",
      "And\n",
      "this\n",
      "one\n",
      "too\n",
      ".\n"
     ]
    }
   ],
   "source": [
    "text = \"Tokenize this sentence. And this one too.\"\n",
    "doc = nlp(text)\n",
    "\n",
    "for token in doc:\n",
    "    print(token)\n",
    "   "
   ]
  },
  {
   "cell_type": "markdown",
   "id": "bce57785-cb49-40c1-8315-2f2c383cddd1",
   "metadata": {},
   "source": [
    "### Exercise 3: Embeddings 2"
   ]
  },
  {
   "cell_type": "code",
   "execution_count": 3,
   "id": "4fd53e54-afb0-4020-988e-2d4862f3eb6c",
   "metadata": {},
   "outputs": [
    {
     "name": "stdout",
     "output_type": "stream",
     "text": [
      "Word: laptop, shape: (300,) , sum first 20 values of the embedding: 5.71038818359375\n",
      "Word: computer, shape: (300,) , sum first 20 values of the embedding: 23.809497833251953\n",
      "Word: coffee, shape: (300,) , sum first 20 values of the embedding: -4.402168273925781\n",
      "Word: tea, shape: (300,) , sum first 20 values of the embedding: -1.3850314617156982\n",
      "Word: water, shape: (300,) , sum first 20 values of the embedding: -3.838740348815918\n",
      "Word: liquid, shape: (300,) , sum first 20 values of the embedding: -6.875599384307861\n",
      "Word: dog, shape: (300,) , sum first 20 values of the embedding: -7.0038580894470215\n",
      "Word: cat, shape: (300,) , sum first 20 values of the embedding: -1.6476582288742065\n",
      "Word: kitty, shape: (300,) , sum first 20 values of the embedding: -9.011079788208008\n"
     ]
    }
   ],
   "source": [
    "#1\n",
    "text= \"laptop computer coffee tea water liquid dog cat kitty\"\n",
    "nlp = spacy.load(\"en_core_web_md\")\n",
    "doc = nlp(text)\n",
    "embedding = doc.vector\n",
    "\n",
    "for token in doc:\n",
    "    print(f\"Word: {token.text}, shape: {token.vector.shape} , sum first 20 values of the embedding: {token.vector[:20].sum()}\")\n",
    "\n"
   ]
  },
  {
   "cell_type": "code",
   "execution_count": 4,
   "id": "ae611244-b9b9-483d-b8f3-fe4fa33b5580",
   "metadata": {},
   "outputs": [
    {
     "data": {
      "image/png": "[encoded data removed]",
      "text/plain": [
       "<Figure size 900x400 with 2 Axes>"
      ]
     },
     "metadata": {},
     "output_type": "display_data"
    }
   ],
   "source": [
    "import pandas as pd\n",
    "import numpy as np\n",
    "import seaborn as sns\n",
    "import matplotlib.pyplot as plt\n",
    "\n",
    "def norm(v):\n",
    "    n= np.sqrt(np.dot(v, v))\n",
    "    return n\n",
    "\n",
    "def cosine_similarity(v1, v2):\n",
    "    similarity= np.dot(v1, v2)/ (norm(v1) * norm(v2))\n",
    "    return similarity\n",
    "\n",
    "\n",
    "tokens=[]\n",
    "for token in doc:\n",
    "    tokens.append(token.text)\n",
    "\n",
    "distance_matrice=[]\n",
    "for token_1 in list(doc)[::-1]:\n",
    "    tmp=[]\n",
    "    for token_2 in doc:\n",
    "        cosine_distance=1-cosine_similarity(token_1.vector, token_2.vector)\n",
    "        tmp.append(cosine_distance)\n",
    "    distance_matrice.append(tmp)\n",
    "\n",
    "\n",
    "df= pd.DataFrame(distance_matrice, index=tokens[::-1], columns=tokens)\n",
    "\n",
    "plt.figure(figsize=(9, 4))\n",
    "sns.heatmap(df, cmap='plasma' ,cbar_kws={\"shrink\": .8})\n",
    "plt.title('cosine distance between words')\n",
    "plt.xticks(rotation=0)\n",
    "plt.show()"
   ]
  },
  {
   "cell_type": "markdown",
   "id": "f4ca39bb-ce62-4f0a-9227-32025eccd56e",
   "metadata": {},
   "source": [
    "### Exercise 4: Sentences' similarity"
   ]
  },
  {
   "cell_type": "code",
   "execution_count": 14,
   "id": "da8e67f8-02c9-420f-8212-3cb32d008f73",
   "metadata": {},
   "outputs": [
    {
     "name": "stdout",
     "output_type": "stream",
     "text": [
      "0.6591544223598693\n",
      "0.41670519951592866\n",
      "0.2896134415926442\n"
     ]
    },
    {
     "name": "stderr",
     "output_type": "stream",
     "text": [
      "/tmp/ipykernel_32064/1415825882.py:15: UserWarning: [W007] The model you're using has no word vectors loaded, so the result of the Doc.similarity method will be based on the tagger, parser and NER, which may not give useful similarity judgements. This may happen if you're using one of the small models, e.g. `en_core_web_sm`, which don't ship with word vectors and only use context-sensitive tensors. You can always add your own word vectors, or use one of the larger models instead if available.\n",
      "  print(doc1.similarity(doc2))\n",
      "/tmp/ipykernel_32064/1415825882.py:16: UserWarning: [W007] The model you're using has no word vectors loaded, so the result of the Doc.similarity method will be based on the tagger, parser and NER, which may not give useful similarity judgements. This may happen if you're using one of the small models, e.g. `en_core_web_sm`, which don't ship with word vectors and only use context-sensitive tensors. You can always add your own word vectors, or use one of the larger models instead if available.\n",
      "  print(doc1.similarity(doc3))\n",
      "/tmp/ipykernel_32064/1415825882.py:17: UserWarning: [W007] The model you're using has no word vectors loaded, so the result of the Doc.similarity method will be based on the tagger, parser and NER, which may not give useful similarity judgements. This may happen if you're using one of the small models, e.g. `en_core_web_sm`, which don't ship with word vectors and only use context-sensitive tensors. You can always add your own word vectors, or use one of the larger models instead if available.\n",
      "  print(doc2.similarity(doc3))\n"
     ]
    }
   ],
   "source": [
    "sentence_1 = \"I want to buy shoes\"\n",
    "sentence_2 = \"I would love to purchase running shoes\"\n",
    "sentence_3 = \"I am in my room\"\n",
    "\n",
    "nl = spacy.load(\"en_core_web_sm\")\n",
    "\n",
    "doc1 = nl(sentence_1)\n",
    "doc2 = nl(sentence_2)\n",
    "doc3 = nl(sentence_3)\n",
    "\n",
    "#print(cosine_similarity(doc1.vector, doc2.vector))\n",
    "#print(cosine_similarity(doc1.vector, doc3.vector))\n",
    "#print(cosine_similarity(doc2.vector, doc3.vector))\n",
    "\n",
    "print(doc1.similarity(doc2))\n",
    "print(doc1.similarity(doc3))\n",
    "print(doc2.similarity(doc3))"
   ]
  },
  {
   "cell_type": "markdown",
   "id": "54b5b804-baa4-4f35-935c-b3df12ffb42a",
   "metadata": {},
   "source": [
    "### Exercise 5: NER"
   ]
  },
  {
   "cell_type": "code",
   "execution_count": 13,
   "id": "cdb0734a-d67d-49ce-ba31-115125f55894",
   "metadata": {},
   "outputs": [
    {
     "name": "stdout",
     "output_type": "stream",
     "text": [
      "Apple Inc.  ORG\n",
      "American  NORP\n",
      "Cupertino  GPE\n",
      "California  GPE\n",
      "one  CARDINAL\n",
      "U.S.  GPE\n",
      "Amazon  ORG\n",
      "Google  ORG\n",
      "Microsoft  ORG\n",
      "Facebook  ORG\n",
      "Apple  ORG\n",
      "Steve Jobs  PERSON\n",
      "Steve Wozniak  PERSON\n",
      "Ronald Wayne  PERSON\n",
      "April 1976  DATE\n",
      "Wozniak  PERSON\n",
      "Apple  ORG\n",
      "Wayne  PERSON\n",
      "12 days  DATE\n",
      "Apple Computer, Inc.  ORG\n",
      "January 1977  DATE\n",
      "Apple  ORG\n",
      "Apple II  ORG\n"
     ]
    }
   ],
   "source": [
    "# Charger le modèle anglais\n",
    "nlp = spacy.load('en_core_web_md')\n",
    "\n",
    "# Définir un texte d'exemple\n",
    "texte = (\n",
    "    \"Apple Inc. is an American multinational technology company headquartered in Cupertino, California, \"\n",
    "    \"that designs, develops, and sells consumer electronics, computer software, and online services. \"\n",
    "    \"It is considered one of the Big Five companies in the U.S. information technology industry, \"\n",
    "    \"along with Amazon, Google, Microsoft, and Facebook. \"\n",
    "    \"Apple was founded by Steve Jobs, Steve Wozniak, and Ronald Wayne in April 1976 to develop and sell \"\n",
    "    \"Wozniak's Apple I personal computer, though Wayne sold his share back within 12 days. \"\n",
    "    \"It was incorporated as Apple Computer, Inc., in January 1977, and sales of its computers, including \"\n",
    "    \"the Apple I and Apple II, grew quickly.\"\n",
    ")\n",
    "\n",
    "# Traiter le texte\n",
    "doc = nlp(texte)\n",
    "\n",
    "for ent in doc.ents:\n",
    "    print(f\"{ent.text}  {ent.label_}\")\n"
   ]
  },
  {
   "cell_type": "code",
   "execution_count": 7,
   "id": "132ccf47-eb02-4230-a110-dfca5ca0b390",
   "metadata": {},
   "outputs": [
    {
     "name": "stdout",
     "output_type": "stream",
     "text": [
      "Paul 1 5 PERSON\n",
      "Apple 50 55 ORG\n"
     ]
    }
   ],
   "source": [
    "#2\n",
    "sentence= \" Paul eats an apple while watching a movie on his Apple device.\"\n",
    "doc = nlp(sentence)\n",
    "for ent in doc.ents:\n",
    "    print(f\"{ent.text} {ent.start_char} {ent.end_char} {ent.label_}\")\n"
   ]
  },
  {
   "cell_type": "markdown",
   "id": "5084700b-5e5c-4082-ab27-a809bd2fd64f",
   "metadata": {},
   "source": [
    "### Exercise 6: Part-of-speech tags"
   ]
  },
  {
   "cell_type": "code",
   "execution_count": 12,
   "id": "878e43fe-41b5-4db8-862f-feb9c72ac28b",
   "metadata": {},
   "outputs": [
    {
     "name": "stdout",
     "output_type": "stream",
     "text": [
      "INFO:  Bezos PROPN NNP\n",
      "sentence : Amazon (AMZN) enters 2021 with plenty of big opportunities, but is losing its lauded Chief Executive Jeff Bezos, who announced his plan to step aside in the third quarter., \"\n",
      "\n",
      "INFO:  Bezos PROPN NNP\n",
      "sentence : Bezos will hand off his role as chief executive to Andy Jassy, the CEO of its cloud computing unit., \"\n",
      "\n",
      "INFO:  Bezos PROPN NNP\n",
      "sentence : He's not leaving, as Bezos will transition to the role of Executive Chairman and remain active., \"\n",
      "\n",
      "INFO:  Bezos PROPN NNP\n",
      "sentence : \"When you look at our financial results, what you're actually seeing are the long-run cumulative results of invention,\" Bezos said in written remarks with the Amazon earnings release., \"\n",
      "\n"
     ]
    }
   ],
   "source": [
    "import io\n",
    "\n",
    "file=io.open(\"./data/news_amazon.txt\", 'r', encoding='utf-8')\n",
    "text=file.read()\n",
    "file.close()\n",
    "nlp = spacy.load('en_core_web_md')\n",
    "doc = nlp(text)\n",
    "\n",
    "sentences_with_bezos = []\n",
    "\n",
    "for sent in doc.sents:\n",
    "    if any(token.text == \"Bezos\" and token.tag_ == \"NNP\" for token in sent):\n",
    "        sentences_with_bezos.append(sent.text)\n",
    "\n",
    "\n",
    "for sentence in sentences_with_bezos:\n",
    "    print(\"INFO:  Bezos PROPN NNP\")\n",
    "    print(f'sentence : {sentence}, \"\\n')"
   ]
  }
 ],
 "metadata": {
  "kernelspec": {
   "display_name": "Python 3 (ipykernel)",
   "language": "python",
   "name": "python3"
  },
  "language_info": {
   "codemirror_mode": {
    "name": "ipython",
    "version": 3
   },
   "file_extension": ".py",
   "mimetype": "text/x-python",
   "name": "python",
   "nbconvert_exporter": "python",
   "pygments_lexer": "ipython3",
   "version": "3.10.15"
  }
 },
 "nbformat": 4,
 "nbformat_minor": 5
}
