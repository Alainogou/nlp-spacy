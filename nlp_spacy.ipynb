{
 "cells": [
  {
   "cell_type": "markdown",
   "id": "b34d474f-ab98-400d-9657-64e4d8d56443",
   "metadata": {},
   "source": [
    "### Exercise 1: Embedding 1"
   ]
  },
  {
   "cell_type": "code",
   "execution_count": 43,
   "id": "e0e3e342-155a-4876-9217-6f3674d684db",
   "metadata": {},
   "outputs": [
    {
     "name": "stdout",
     "output_type": "stream",
     "text": [
      "Forme de l'embedding : (96,)\n",
      "(99959115, 33554432)\n"
     ]
    }
   ],
   "source": [
    "import spacy\n",
    "\n",
    "nlp = spacy.load(\"en_core_web_sm\")\n",
    "\n",
    "doc = nlp(\"car\")\n",
    "\n",
    "embedding = doc.vector\n",
    "print(\"Forme de l'embedding :\", embedding.shape)\n",
    "\n",
    "#\n",
    "somme_embedding = sum(embedding[:20])  \n",
    "numerateur, denominateur = somme_embedding.as_integer_ratio()\n",
    "print(f\"({numerateur}, {denominateur})\")\n"
   ]
  },
  {
   "cell_type": "markdown",
   "id": "15904ab4-28d5-4852-a1fc-e5d1d6567f46",
   "metadata": {},
   "source": [
    "### Exercise 2: Tokenization"
   ]
  },
  {
   "cell_type": "code",
   "execution_count": 55,
   "id": "7725e9b2-3a1e-434b-8f7b-51a4b761b0de",
   "metadata": {},
   "outputs": [
    {
     "data": {
      "text/plain": [
       "['Tokenize', 'this', 'sentence', '.', 'And', 'this', 'one', 'too', '.']"
      ]
     },
     "execution_count": 55,
     "metadata": {},
     "output_type": "execute_result"
    }
   ],
   "source": [
    "text = \"Tokenize this sentence. And this one too.\"\n",
    "doc = nlp(text)\n",
    "tokens=[]\n",
    "for token in doc:\n",
    "    tokens.append(token.text)\n",
    "tokens"
   ]
  },
  {
   "cell_type": "markdown",
   "id": "bce57785-cb49-40c1-8315-2f2c383cddd1",
   "metadata": {},
   "source": [
    "### Exercise 3: Embeddings 2"
   ]
  },
  {
   "cell_type": "code",
   "execution_count": null,
   "id": "4fd53e54-afb0-4020-988e-2d4862f3eb6c",
   "metadata": {},
   "outputs": [],
   "source": []
  },
  {
   "cell_type": "markdown",
   "id": "f4ca39bb-ce62-4f0a-9227-32025eccd56e",
   "metadata": {},
   "source": [
    "### Exercise 4: Sentences' similarity"
   ]
  },
  {
   "cell_type": "markdown",
   "id": "54b5b804-baa4-4f35-935c-b3df12ffb42a",
   "metadata": {},
   "source": [
    "### Exercise 5: NER"
   ]
  },
  {
   "cell_type": "markdown",
   "id": "5084700b-5e5c-4082-ab27-a809bd2fd64f",
   "metadata": {},
   "source": [
    "### Exercise 6: Part-of-speech tags"
   ]
  }
 ],
 "metadata": {
  "kernelspec": {
   "display_name": "Python 3 (ipykernel)",
   "language": "python",
   "name": "python3"
  },
  "language_info": {
   "codemirror_mode": {
    "name": "ipython",
    "version": 3
   },
   "file_extension": ".py",
   "mimetype": "text/x-python",
   "name": "python",
   "nbconvert_exporter": "python",
   "pygments_lexer": "ipython3",
   "version": "3.10.15"
  }
 },
 "nbformat": 4,
 "nbformat_minor": 5
}
